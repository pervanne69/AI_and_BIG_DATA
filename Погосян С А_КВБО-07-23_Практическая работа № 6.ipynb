{
 "cells": [
  {
   "cell_type": "code",
   "id": "initial_id",
   "metadata": {
    "collapsed": true,
    "ExecuteTime": {
     "end_time": "2024-11-04T16:30:14.788088Z",
     "start_time": "2024-11-04T16:30:14.767033Z"
    }
   },
   "source": [
    "# Функция оценки качества хромосомы\n",
    "def qZ(x, y):\n",
    "    return (x - 3 * y - 3) / (x ** 2 + 2 * y ** 2 + 2)\n",
    "\n",
    "# Функция для суммарной оценки качества хромосом\n",
    "def qSumZ(z):\n",
    "    return sum(z)\n",
    "\n",
    "\n",
    "def exchangeScheme(old_x, old_y, sorted_id):\n",
    "    x = [0 for i in range(4)]\n",
    "    y = [0 for i in range(4)]\n",
    "    \n",
    "    x[2] = old_x[sorted_id[2]]\n",
    "    x[3] = old_x[sorted_id[2]]\n",
    "    \n",
    "    x[0] = old_x[sorted_id[0]]\n",
    "    \n",
    "    x[1] = old_x[sorted_id[1]]\n",
    "    \n",
    "    y[0] = old_y[sorted_id[2]]\n",
    "    y[1] = old_y[sorted_id[2]]\n",
    "    \n",
    "    y[2] = old_y[sorted_id[0]]\n",
    "    \n",
    "    y[3] = old_y[sorted_id[1]]\n",
    "    \n",
    "    return x, y\n",
    "    \n",
    "    \n",
    "def sorting(z):\n",
    "    sorted_id = sorted(range(len(z)), key=lambda k: z[k])\n",
    "\n",
    "    return sorted_id\n",
    "\n",
    "\n",
    "# Функция для шага эволюции\n",
    "def evolve_step(x, y, z):\n",
    "    _, min_id = min((value, i) for (i, value) in enumerate(z))\n",
    "    x = x[:]\n",
    "    y = y[:]\n",
    "    z = z[:]\n",
    "    \n",
    "    x.pop(min_id)\n",
    "    y.pop(min_id)\n",
    "    z.pop(min_id)\n",
    "    \n",
    "    return x, y, z\n",
    "\n",
    "# Функция для проведения нескольких шагов эволюции\n",
    "def evo_steps(x, y, steps=4):\n",
    "    results = []\n",
    "    \n",
    "    for i in range(4):\n",
    "        \n",
    "        arr_z = [qZ(x, y[i]) for i, x in enumerate(x)]\n",
    "        \n",
    "        x, y, z = evolve_step(x, y, arr_z)\n",
    "        \n",
    "        x, y = exchangeScheme(x, y, sorting(z))\n",
    "        \n",
    "        results.append([x, y, qSumZ(arr_z), arr_z])\n",
    "        \n",
    "    return x, y, results\n",
    "\n",
    "\n",
    "x = [-5, -3, -2, -1]\n",
    "y = [-1, -2, 0, 1]\n",
    "\n",
    "results = evo_steps(x, y)\n",
    "\n",
    "for i in range(len(results[2])):\n",
    "    print(f\"max_{i + 1}_step: {results[2][i][2]}\")\n",
    "    \n",
    "quality_arr_z = []\n",
    "\n",
    "for i in range(len(results[2])):\n",
    "    quality_arr_z.append(results[2][i][2])\n",
    "    \n",
    "print(f\"max z:      {max(quality_arr_z)}\")"
   ],
   "outputs": [
    {
     "name": "stdout",
     "output_type": "stream",
     "text": [
      "max_1_step: -2.405747126436782\n",
      "max_2_step: -0.7619380619380619\n",
      "max_3_step: -0.2357142857142857\n",
      "max_4_step: 0.08571428571428572\n",
      "max z:      0.08571428571428572\n"
     ]
    }
   ],
   "execution_count": 2
  },
  {
   "metadata": {},
   "cell_type": "code",
   "outputs": [],
   "execution_count": null,
   "source": "",
   "id": "876c5426db9c8965"
  }
 ],
 "metadata": {
  "kernelspec": {
   "display_name": "Python 3",
   "language": "python",
   "name": "python3"
  },
  "language_info": {
   "codemirror_mode": {
    "name": "ipython",
    "version": 2
   },
   "file_extension": ".py",
   "mimetype": "text/x-python",
   "name": "python",
   "nbconvert_exporter": "python",
   "pygments_lexer": "ipython2",
   "version": "2.7.6"
  }
 },
 "nbformat": 4,
 "nbformat_minor": 5
}
